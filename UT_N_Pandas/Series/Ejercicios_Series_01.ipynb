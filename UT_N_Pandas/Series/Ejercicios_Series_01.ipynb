{
 "cells": [
  {
   "cell_type": "markdown",
   "id": "3186613a",
   "metadata": {},
   "source": [
    "### Listado de ejercicios con Pandas Series"
   ]
  },
  {
   "cell_type": "markdown",
   "id": "e3fe69eb",
   "metadata": {},
   "source": [
    "## Ejercicios básicos\n",
    "1. Crea una serie llamada numeros a partir de la lista [10, 25, 5, 30, 15].\n",
    "2. Crea una serie llamada frutas a partir del diccionario {'Manzana': 3, 'Plátano': 7, 'Naranja': 5, 'Pera': 2}.\n",
    "3. Accede al segundo elemento por su posición de la serie numeros.\n",
    "4. De la Serie frutas, accede a la cantidad de \"Naranja\" por su etiqueta.\n",
    "5. Accede a la cantidad de \"Manzana\" y \"Pera\" de frutas utilizando una lista de etiquetas.\n",
    "6. Imprime el número de elementos, tipo de datos e índices de la serie números.\n",
    "7. En la serie frutas, aumenta un 10% las cantidades. La serie original debe permanecer inalterada.\n",
    "8. Crea una serie con 10 elementos que almacene edades comprendidas entre 18 y 65 años.\n",
    "9. Muestra las edades comprendidas entre 40 y 50 años.\n",
    "10. Muestra las edades pares de la serie.\n"
   ]
  },
  {
   "cell_type": "code",
   "execution_count": 2,
   "id": "53448ed8",
   "metadata": {},
   "outputs": [],
   "source": [
    "import pandas as pd"
   ]
  },
  {
   "cell_type": "code",
   "execution_count": 7,
   "id": "df1f20b1",
   "metadata": {},
   "outputs": [
    {
     "name": "stdout",
     "output_type": "stream",
     "text": [
      "10\n",
      "5\n",
      "Manzana    3\n",
      "Pera       2\n",
      "dtype: int64\n"
     ]
    }
   ],
   "source": [
    "# 1. Crea una serie llamada numeros a partir de la lista [10, 25, 5, 30, 15].\n",
    "# 2. Crea una serie llamada frutas a partir del diccionario {'Manzana': 3, 'Plátano': 7, 'Naranja': 5, 'Pera': 2}.\n",
    "# 3. Accede al segundo elemento por su posición de la serie numeros.\n",
    "# 4. De la Serie frutas, accede a la cantidad de \"Naranja\" por su etiqueta.\n",
    "# 5.Accede a la cantidad de \"Manzana\" y \"Pera\" de frutas utilizando una lista de etiquetas.\n",
    "numeros = pd.Series([10, 25, 5, 30, 15])\n",
    "frutas = pd.Series({'Manzana': 3, 'Plátano': 7, 'Naranja': 5, 'Pera': 2})\n",
    "print(numeros.iloc[0])\n",
    "print(frutas.loc['Naranja'])\n",
    "print(frutas.loc[['Manzana', 'Pera']])"
   ]
  },
  {
   "cell_type": "code",
   "execution_count": 9,
   "id": "3ef4e4da",
   "metadata": {},
   "outputs": [
    {
     "name": "stdout",
     "output_type": "stream",
     "text": [
      "Serie números\n",
      "Nº elementos: 5\n",
      "Tipo datos: int64\n",
      "Índices: RangeIndex(start=0, stop=5, step=1)\n"
     ]
    }
   ],
   "source": [
    "# 6. Imprime el número de elementos, tipo de datos e índices de cada serie.\n",
    "print(\"Serie números\")\n",
    "print(f\"Nº elementos: {numeros.size}\")\n",
    "print(f\"Tipo datos: {numeros.dtype}\")\n",
    "print(f\"Índices: {numeros.index}\")\n"
   ]
  },
  {
   "cell_type": "code",
   "execution_count": 10,
   "id": "9e59577f",
   "metadata": {},
   "outputs": [
    {
     "name": "stdout",
     "output_type": "stream",
     "text": [
      "Manzana    3.3\n",
      "Plátano    7.7\n",
      "Naranja    5.5\n",
      "Pera       2.2\n",
      "dtype: float64\n"
     ]
    }
   ],
   "source": [
    "# 7. En la serie frutas, aumenta un 10% las cantidades. La serie original debe permanecer inalterada.\n",
    "frutas_aumentadas = frutas * 1.1\n",
    "print(frutas_aumentadas)"
   ]
  },
  {
   "cell_type": "code",
   "execution_count": 16,
   "id": "133ed259",
   "metadata": {},
   "outputs": [
    {
     "name": "stdout",
     "output_type": "stream",
     "text": [
      "0    46\n",
      "1    26\n",
      "2    37\n",
      "3    24\n",
      "4    23\n",
      "5    46\n",
      "6    49\n",
      "7    34\n",
      "8    24\n",
      "9    57\n",
      "dtype: int32\n",
      "0    46\n",
      "5    46\n",
      "6    49\n",
      "9    57\n",
      "dtype: int32\n"
     ]
    }
   ],
   "source": [
    "# 8. Crea una serie con 10 elementos que almacene edades comprendidas entre 18 y 65 años.\n",
    "# 9. Muestra las edades comprendidas entre 40 y 50 años.\n",
    "# 10. Muestra las edades pares de la serie.\n",
    "import numpy as np\n",
    "edades = pd.Series(np.random.randint(low=18, high=65, size=10))\n",
    "mascara = (edades >= 40) & (edades <= 65)\n",
    "entre = edades[mascara]\n",
    "print(edades)\n",
    "print(entre)"
   ]
  },
  {
   "cell_type": "code",
   "execution_count": null,
   "id": "b660710e",
   "metadata": {},
   "outputs": [],
   "source": []
  }
 ],
 "metadata": {
  "kernelspec": {
   "display_name": "pandas",
   "language": "python",
   "name": "python3"
  },
  "language_info": {
   "codemirror_mode": {
    "name": "ipython",
    "version": 3
   },
   "file_extension": ".py",
   "mimetype": "text/x-python",
   "name": "python",
   "nbconvert_exporter": "python",
   "pygments_lexer": "ipython3",
   "version": "3.12.0"
  }
 },
 "nbformat": 4,
 "nbformat_minor": 5
}
