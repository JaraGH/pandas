{
 "cells": [
  {
   "cell_type": "markdown",
   "id": "88c287f4",
   "metadata": {},
   "source": [
    "## Ejercicios 5.\n",
    "1. Crea una Serie de Pandas llamada poblacion_paises a partir del diccionario poblacion_data. poblacion_data = {'China': 1444216107, 'India': 393409038,\n",
    "'USA': 331002651, 'Indonesia': 276361788, 'Pakistan': 225199937, 'Brasil': 213993437, 'Nigeria': 211400708, 'Bangladesh': 166303498, 'Rusia': 145934462, 'México': 128932700\n",
    "}\n",
    "2. Filtrado Numérico con Índices:\n",
    "   1. Muestra los países con una población mayor a 1,000,000,000 (mil millones).\n",
    "   2. Muestra los países con una población entre 200,000,000 y 300,000,000 (200 y 300 millones, ambos inclusive).\n",
    "3. Filtrado por Índice (nombres de países):\n",
    "   1. Muestra la población de \"USA\", \"Brasil\" y \"Rusia\".\n",
    "   2. Muestra la población de todos los países excepto \"China\" e \"India\".\n",
    "4. Filtrado para Ranking:\n",
    "   1. Muestra los 5 países más poblados. (Pista: usa nlargest())\n",
    "   2. Muestra los 3 países menos poblados. (Pista: usa nsmallest())\n"
   ]
  },
  {
   "cell_type": "code",
   "execution_count": 5,
   "id": "2bf16700",
   "metadata": {},
   "outputs": [],
   "source": [
    "import pandas as pd\n",
    "import numpy as np"
   ]
  },
  {
   "cell_type": "code",
   "execution_count": 7,
   "id": "6783a2fd",
   "metadata": {},
   "outputs": [
    {
     "data": {
      "text/plain": [
       "China         1444216107\n",
       "India          393409038\n",
       "USA            331002651\n",
       "Indonesia      276361788\n",
       "Pakistan       225199937\n",
       "Brasil         213993437\n",
       "Nigeria        211400708\n",
       "Bangladesh     166303498\n",
       "Rusia          145934462\n",
       "México         128932700\n",
       "dtype: int64"
      ]
     },
     "execution_count": 7,
     "metadata": {},
     "output_type": "execute_result"
    }
   ],
   "source": [
    "# 1.  Crea una Serie de Pandas llamada poblacion_paises a partir del diccionario poblacion_data. \n",
    "poblacion_data = {'China': 1444216107, 'India': 393409038, 'USA': 331002651, 'Indonesia': 276361788, 'Pakistan': 225199937, 'Brasil': 213993437, 'Nigeria': 211400708, 'Bangladesh': 166303498, \n",
    "                'Rusia': 145934462, 'México': 128932700}\n",
    "poblaciones = pd.Series(poblacion_data)\n",
    "poblaciones"
   ]
  },
  {
   "cell_type": "code",
   "execution_count": 10,
   "id": "7036aeee",
   "metadata": {},
   "outputs": [
    {
     "data": {
      "text/plain": [
       "China    1444216107\n",
       "dtype: int64"
      ]
     },
     "execution_count": 10,
     "metadata": {},
     "output_type": "execute_result"
    }
   ],
   "source": [
    "# 2. Filtrado Numérico con Índices: Muestra los países con una población mayor a 1,000,000,000 (mil millones).\n",
    "super_mil_m = poblaciones > 1000_000_000\n",
    "result = poblaciones[super_mil_m]\n",
    "result"
   ]
  },
  {
   "cell_type": "code",
   "execution_count": 11,
   "id": "d5979bf7",
   "metadata": {},
   "outputs": [
    {
     "data": {
      "text/plain": [
       "Indonesia    276361788\n",
       "Pakistan     225199937\n",
       "Brasil       213993437\n",
       "Nigeria      211400708\n",
       "dtype: int64"
      ]
     },
     "execution_count": 11,
     "metadata": {},
     "output_type": "execute_result"
    }
   ],
   "source": [
    "# 2. Filtrado Numérico con Índices: Muestra los países con una población entre 200,000,000 y 300,000,000 (200 y 300 millones, ambos inclusive).\n",
    "entre_200_300 = poblaciones.between(200_000_000, 300_000_000)\n",
    "result = poblaciones[entre_200_300]\n",
    "result"
   ]
  },
  {
   "cell_type": "code",
   "execution_count": 13,
   "id": "7fed57d6",
   "metadata": {},
   "outputs": [
    {
     "data": {
      "text/plain": [
       "USA       331002651\n",
       "Brasil    213993437\n",
       "Rusia     145934462\n",
       "dtype: int64"
      ]
     },
     "execution_count": 13,
     "metadata": {},
     "output_type": "execute_result"
    }
   ],
   "source": [
    "# 3. Filtrado por Índice (nombres de países): Muestra la población de \"USA\", \"Brasil\" y \"Rusia\".\n",
    "buscados = ['USA', 'Brasil', 'Rusia']\n",
    "result = poblaciones[poblaciones.index.isin(buscados)]\n",
    "result   "
   ]
  },
  {
   "cell_type": "code",
   "execution_count": 15,
   "id": "2ad33e56",
   "metadata": {},
   "outputs": [
    {
     "data": {
      "text/plain": [
       "USA           331002651\n",
       "Indonesia     276361788\n",
       "Pakistan      225199937\n",
       "Brasil        213993437\n",
       "Nigeria       211400708\n",
       "Bangladesh    166303498\n",
       "Rusia         145934462\n",
       "México        128932700\n",
       "dtype: int64"
      ]
     },
     "execution_count": 15,
     "metadata": {},
     "output_type": "execute_result"
    }
   ],
   "source": [
    "# 3. Filtrado por Índice (nombres de países): Muestra la población de todos los países excepto \"China\" e \"India\".\n",
    "no_buscados = ['China', 'India']\n",
    "result = poblaciones[~poblaciones.index.isin(no_buscados)]\n",
    "result"
   ]
  },
  {
   "cell_type": "code",
   "execution_count": null,
   "id": "924f01b3",
   "metadata": {},
   "outputs": [
    {
     "data": {
      "text/plain": [
       "China        1444216107\n",
       "India         393409038\n",
       "USA           331002651\n",
       "Indonesia     276361788\n",
       "Pakistan      225199937\n",
       "dtype: int64"
      ]
     },
     "execution_count": 21,
     "metadata": {},
     "output_type": "execute_result"
    }
   ],
   "source": [
    "# 4. Filtrado para Ranking: Muestra los 5 países más poblados. (Pista: usa nlargest())\n",
    "top_5 = poblaciones.nlargest(n=5)\n",
    "top_5"
   ]
  },
  {
   "cell_type": "code",
   "execution_count": 22,
   "id": "a0c97d5f",
   "metadata": {},
   "outputs": [
    {
     "data": {
      "text/plain": [
       "México        128932700\n",
       "Rusia         145934462\n",
       "Bangladesh    166303498\n",
       "dtype: int64"
      ]
     },
     "execution_count": 22,
     "metadata": {},
     "output_type": "execute_result"
    }
   ],
   "source": [
    "# 4. Filtrado para Ranking: Muestra los 3 países menos poblados. (Pista: usa nsmallest())\n",
    "bottom_3 = poblaciones.nsmallest(n=3)\n",
    "bottom_3"
   ]
  },
  {
   "cell_type": "code",
   "execution_count": null,
   "id": "fa8ad6db",
   "metadata": {},
   "outputs": [],
   "source": []
  }
 ],
 "metadata": {
  "kernelspec": {
   "display_name": "pandas",
   "language": "python",
   "name": "python3"
  },
  "language_info": {
   "codemirror_mode": {
    "name": "ipython",
    "version": 3
   },
   "file_extension": ".py",
   "mimetype": "text/x-python",
   "name": "python",
   "nbconvert_exporter": "python",
   "pygments_lexer": "ipython3",
   "version": "3.12.0"
  }
 },
 "nbformat": 4,
 "nbformat_minor": 5
}
