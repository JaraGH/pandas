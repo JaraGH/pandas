{
 "cells": [
  {
   "cell_type": "markdown",
   "id": "6b1694d4",
   "metadata": {},
   "source": [
    "### Filtros en series"
   ]
  },
  {
   "cell_type": "code",
   "execution_count": 15,
   "id": "81b8dec2",
   "metadata": {},
   "outputs": [],
   "source": [
    "import pandas as pd\n",
    "import numpy as np"
   ]
  },
  {
   "cell_type": "code",
   "execution_count": 23,
   "id": "30c657a4",
   "metadata": {},
   "outputs": [
    {
     "data": {
      "text/plain": [
       "0    10\n",
       "1    20\n",
       "2    30\n",
       "6    24\n",
       "dtype: int64"
      ]
     },
     "execution_count": 23,
     "metadata": {},
     "output_type": "execute_result"
    }
   ],
   "source": [
    "# Filtro sencillo: una condición.\n",
    "numeros = pd.Series([10, 20, 30, 45, 11, 23, 24])\n",
    "pares = numeros % 2 == 0   # condición\n",
    "numeros_pares = numeros[pares]   # aplicación de la condición\n",
    "numeros_pares\n"
   ]
  },
  {
   "cell_type": "code",
   "execution_count": null,
   "id": "1073f41f",
   "metadata": {},
   "outputs": [],
   "source": [
    "# Creación de la serie\n",
    "productos = pd.Series({'Manzana': 3.20, 'Pera': 2.50, 'Naranja': 1.50, \n",
    "    'Limón': 4.00, 'Nectarina': np.nan, 'Platano': 4.10, 'Melón': 1.85, \n",
    "    'Aguacate': np.nan\n",
    "})\n"
   ]
  },
  {
   "cell_type": "code",
   "execution_count": 18,
   "id": "5f912cd3",
   "metadata": {},
   "outputs": [
    {
     "data": {
      "text/plain": [
       "Naranja    1.50\n",
       "Platano    4.10\n",
       "Melón      1.85\n",
       "dtype: float64"
      ]
     },
     "execution_count": 18,
     "metadata": {},
     "output_type": "execute_result"
    }
   ],
   "source": [
    "# Condición compuesta. Productos con precio menor que 2 o mayor que 4.\n",
    "seleccion = (productos < 2 ) | (productos > 4)\n",
    "seleccionados = productos[seleccion]\n",
    "seleccionados"
   ]
  },
  {
   "cell_type": "code",
   "execution_count": 17,
   "id": "b00d44ff",
   "metadata": {},
   "outputs": [
    {
     "data": {
      "text/plain": [
       "Limón      4.0\n",
       "Platano    4.1\n",
       "dtype: float64"
      ]
     },
     "execution_count": 17,
     "metadata": {},
     "output_type": "execute_result"
    }
   ],
   "source": [
    "# Condición sencilla. Productos con precio igual o superior a 4.\n",
    "caros = productos >= 4.0\n",
    "productos_caros = productos[caros]\n",
    "productos_caros"
   ]
  },
  {
   "cell_type": "code",
   "execution_count": 20,
   "id": "ced42c0f",
   "metadata": {},
   "outputs": [
    {
     "data": {
      "text/plain": [
       "Nectarina   NaN\n",
       "Aguacate    NaN\n",
       "dtype: float64"
      ]
     },
     "execution_count": 20,
     "metadata": {},
     "output_type": "execute_result"
    }
   ],
   "source": [
    "# Obtener productos sin precio: nulos\n",
    "nulos = productos.isnull()\n",
    "sin_precio = productos[nulos]\n",
    "sin_precio"
   ]
  },
  {
   "cell_type": "code",
   "execution_count": 21,
   "id": "ecd4b58d",
   "metadata": {},
   "outputs": [
    {
     "data": {
      "text/plain": [
       "Manzana    3.20\n",
       "Pera       2.50\n",
       "Naranja    1.50\n",
       "Limón      4.00\n",
       "Platano    4.10\n",
       "Melón      1.85\n",
       "dtype: float64"
      ]
     },
     "execution_count": 21,
     "metadata": {},
     "output_type": "execute_result"
    }
   ],
   "source": [
    "# Obtener los productos con precio: no nulos.\n",
    "sin_nulos = productos.notnull()\n",
    "con_precio = productos[sin_nulos]\n",
    "con_precio"
   ]
  },
  {
   "cell_type": "code",
   "execution_count": 24,
   "id": "edd70017",
   "metadata": {},
   "outputs": [],
   "source": [
    "# Filtros con isin().\n",
    "productos = pd.Series({'Manzana': 3.20, 'Pera': 2.50, 'Naranja': 1.50, \n",
    "    'Limón': 4.00, 'Nectarina': np.nan, 'Platano': 4.10, 'Melón': 1.85, \n",
    "    'Aguacate': np.nan\n",
    "})"
   ]
  },
  {
   "cell_type": "code",
   "execution_count": null,
   "id": "7116bd0c",
   "metadata": {},
   "outputs": [
    {
     "data": {
      "text/plain": [
       "Naranja    1.50\n",
       "Platano    4.10\n",
       "Melón      1.85\n",
       "dtype: float64"
      ]
     },
     "execution_count": 29,
     "metadata": {},
     "output_type": "execute_result"
    }
   ],
   "source": [
    "# Filtrar por índice.\n",
    "buscados = ['Naranja', 'Platano', 'Melón']\n",
    "productos_buscados = productos[productos.index.isin(buscados)]\n",
    "productos_buscados"
   ]
  },
  {
   "cell_type": "code",
   "execution_count": 30,
   "id": "97ed903c",
   "metadata": {},
   "outputs": [
    {
     "data": {
      "text/plain": [
       "Naranja    1.50\n",
       "Platano    4.10\n",
       "Melón      1.85\n",
       "dtype: float64"
      ]
     },
     "execution_count": 30,
     "metadata": {},
     "output_type": "execute_result"
    }
   ],
   "source": [
    "# Filtrar por valor.\n",
    "buscados = [1.50, 4.10, 1.85]\n",
    "productos_buscados = productos[productos.isin(buscados)]\n",
    "productos_buscados"
   ]
  },
  {
   "cell_type": "code",
   "execution_count": 35,
   "id": "c1b86f9d",
   "metadata": {},
   "outputs": [],
   "source": [
    "# Filtros. Nulos y no nulos.\n",
    "productos = pd.Series({'Manzana': 3.20, 'Pera': 2.50, 'Naranja': 1.50, \n",
    "    'Limón': 4.00, 'Nectarina': np.nan, 'Platano': 4.10, 'Melón': 1.85, \n",
    "    'Aguacate': np.nan\n",
    "})"
   ]
  },
  {
   "cell_type": "code",
   "execution_count": null,
   "id": "dafd382c",
   "metadata": {},
   "outputs": [
    {
     "data": {
      "text/plain": [
       "Nectarina   NaN\n",
       "Aguacate    NaN\n",
       "dtype: float64"
      ]
     },
     "execution_count": 33,
     "metadata": {},
     "output_type": "execute_result"
    }
   ],
   "source": [
    "# Obtener los productos que no tiene precio (np.nan)\n",
    "sin_precio = productos.isnull()\n",
    "productos_sin_precio = productos[sin_precio]\n",
    "productos_sin_precio"
   ]
  },
  {
   "cell_type": "code",
   "execution_count": 34,
   "id": "74f24907",
   "metadata": {},
   "outputs": [
    {
     "data": {
      "text/plain": [
       "Manzana    3.20\n",
       "Pera       2.50\n",
       "Naranja    1.50\n",
       "Limón      4.00\n",
       "Platano    4.10\n",
       "Melón      1.85\n",
       "dtype: float64"
      ]
     },
     "execution_count": 34,
     "metadata": {},
     "output_type": "execute_result"
    }
   ],
   "source": [
    "# Obtener los productos que tienen precio (no np.nan)\n",
    "sin_nulos = productos.notnull()\n",
    "productos_con_precio = productos[sin_nulos]\n",
    "productos_con_precio"
   ]
  },
  {
   "cell_type": "code",
   "execution_count": null,
   "id": "8a0bd5af",
   "metadata": {},
   "outputs": [],
   "source": []
  }
 ],
 "metadata": {
  "kernelspec": {
   "display_name": "pandas",
   "language": "python",
   "name": "python3"
  },
  "language_info": {
   "codemirror_mode": {
    "name": "ipython",
    "version": 3
   },
   "file_extension": ".py",
   "mimetype": "text/x-python",
   "name": "python",
   "nbconvert_exporter": "python",
   "pygments_lexer": "ipython3",
   "version": "3.12.0"
  }
 },
 "nbformat": 4,
 "nbformat_minor": 5
}
