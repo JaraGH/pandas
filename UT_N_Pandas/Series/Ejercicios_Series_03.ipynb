{
 "cells": [
  {
   "cell_type": "markdown",
   "id": "70710fe5",
   "metadata": {},
   "source": [
    "## Ejercicio 3.\n",
    "1. Crea una Serie de Pandas llamada calificaciones_alumnos a partir del diccionario calificaciones_dict. calificaciones_dict = {'Ana': 88, 'Juan': 75, 'María': 92, 'Pedro': 60, 'Luis': 85, 'Sofía': 95, 'Carlos': 70}\n",
    "2. Filtrado Básico: \n",
    "   1. Muestra los alumnos que obtuvieron una calificación superior a 90.\n",
    "   2. Muestra los alumnos que reprobaron (calificación menor a 70).\n",
    "3. Filtrado con Múltiples Condiciones:\n",
    "   1. Muestra los alumnos que obtuvieron una calificación entre 70 y 85 (ambos inclusive).\n",
    "   2. Muestra los alumnos que tienen una calificación mayor a 90 o menor a 65.\n",
    "4. Filtrado usando isin() y ~:\n",
    "   1. Muestra las calificaciones de los alumnos \"Ana\", \"María\" y \"Carlos\".\n",
    "   2. Muestra las calificaciones de todos los alumnos excepto \"Juan\" y \"Pedro\"."
   ]
  },
  {
   "cell_type": "code",
   "execution_count": 2,
   "id": "9f384d21",
   "metadata": {},
   "outputs": [],
   "source": [
    "import pandas as pd"
   ]
  },
  {
   "cell_type": "code",
   "execution_count": 5,
   "id": "9e83d8a8",
   "metadata": {},
   "outputs": [
    {
     "data": {
      "text/plain": [
       "Ana       88\n",
       "Juan      75\n",
       "María     92\n",
       "Pedro     60\n",
       "Luis      85\n",
       "Sofía     95\n",
       "Carlos    70\n",
       "dtype: int64"
      ]
     },
     "execution_count": 5,
     "metadata": {},
     "output_type": "execute_result"
    }
   ],
   "source": [
    "# 1. Crea una Serie de Pandas llamada calificaciones_alumnos a partir del diccionario calificaciones_dict. \n",
    "# calificaciones_dict = {'Ana': 88, 'Juan': 75, 'María': 92, 'Pedro': 60, 'Luis': 85, 'Sofía': 95, 'Carlos': 70}\n",
    "calificaciones_dict = {'Ana': 88, 'Juan': 75, 'María': 92, 'Pedro': 60, 'Luis': 85, 'Sofía': 95, 'Carlos': 70}\n",
    "calificaciones = pd.Series(calificaciones_dict)\n",
    "calificaciones"
   ]
  },
  {
   "cell_type": "code",
   "execution_count": null,
   "id": "d56246fc",
   "metadata": {},
   "outputs": [
    {
     "data": {
      "text/plain": [
       "María    92\n",
       "Sofía    95\n",
       "dtype: int64"
      ]
     },
     "execution_count": 6,
     "metadata": {},
     "output_type": "execute_result"
    }
   ],
   "source": [
    "# 2. Filtrado Básico: Muestra los alumnos que obtuvieron una calificación superior a 90.\n",
    "calif_superior_90 = calificaciones > 90\n",
    "result = calificaciones[calif_superior_90]\n",
    "result"
   ]
  },
  {
   "cell_type": "code",
   "execution_count": 7,
   "id": "50e6f6ab",
   "metadata": {},
   "outputs": [
    {
     "data": {
      "text/plain": [
       "Pedro    60\n",
       "dtype: int64"
      ]
     },
     "execution_count": 7,
     "metadata": {},
     "output_type": "execute_result"
    }
   ],
   "source": [
    "# 2. Filtrado Básico: Muestra los alumnos que reprobaron (calificación menor a 70).\n",
    "calif_menor_70 = calificaciones < 70\n",
    "result = calificaciones[calif_menor_70] \n",
    "result"
   ]
  },
  {
   "cell_type": "code",
   "execution_count": 8,
   "id": "b062efec",
   "metadata": {},
   "outputs": [
    {
     "data": {
      "text/plain": [
       "Juan      75\n",
       "Luis      85\n",
       "Carlos    70\n",
       "dtype: int64"
      ]
     },
     "execution_count": 8,
     "metadata": {},
     "output_type": "execute_result"
    }
   ],
   "source": [
    "# 3. Filtrado con Múltiples Condiciones:Muestra los alumnos que obtuvieron una calificación entre 70 y 85 (ambos inclusive).\n",
    "#   2. Muestra los alumnos que tienen una calificación mayor a 90 o menor a 65.\n",
    "entre_70_85 = calificaciones.between(70, 85) \n",
    "result = calificaciones[entre_70_85]\n",
    "result"
   ]
  },
  {
   "cell_type": "code",
   "execution_count": 10,
   "id": "aea982bd",
   "metadata": {},
   "outputs": [
    {
     "data": {
      "text/plain": [
       "María    92\n",
       "Pedro    60\n",
       "Sofía    95\n",
       "dtype: int64"
      ]
     },
     "execution_count": 10,
     "metadata": {},
     "output_type": "execute_result"
    }
   ],
   "source": [
    "# 3. Filtrado con Múltiples Condiciones: Muestra los alumnos que tienen una calificación mayor a 90 o menor a 65.\n",
    "mayor_90_o_menor_65 = (calificaciones > 90) | (calificaciones < 65)\n",
    "result = calificaciones[mayor_90_o_menor_65]\n",
    "result"
   ]
  },
  {
   "cell_type": "code",
   "execution_count": null,
   "id": "b2e8afdb",
   "metadata": {},
   "outputs": [
    {
     "data": {
      "text/plain": [
       "Ana       88\n",
       "María     92\n",
       "Carlos    70\n",
       "dtype: int64"
      ]
     },
     "execution_count": 11,
     "metadata": {},
     "output_type": "execute_result"
    }
   ],
   "source": [
    "# Filtrado usando isin() y ~: Muestra las calificaciones de los alumnos \"Ana\", \"María\" y \"Carlos\".\n",
    "buscados = ['Ana', 'María', 'Carlos']\n",
    "result = calificaciones[calificaciones.index.isin(buscados)]\n",
    "result"
   ]
  },
  {
   "cell_type": "code",
   "execution_count": 12,
   "id": "46b5ca9d",
   "metadata": {},
   "outputs": [
    {
     "data": {
      "text/plain": [
       "Ana       88\n",
       "María     92\n",
       "Luis      85\n",
       "Sofía     95\n",
       "Carlos    70\n",
       "dtype: int64"
      ]
     },
     "execution_count": 12,
     "metadata": {},
     "output_type": "execute_result"
    }
   ],
   "source": [
    "# Filtrado usando isin() y ~: Muestra las calificaciones de todos los alumnos excepto \"Juan\" y \"Pedro\".\n",
    "no_buscados = ['Juan', 'Pedro']\n",
    "result = calificaciones[~calificaciones.index.isin(no_buscados)]\n",
    "result\n"
   ]
  },
  {
   "cell_type": "code",
   "execution_count": null,
   "id": "91246318",
   "metadata": {},
   "outputs": [],
   "source": []
  }
 ],
 "metadata": {
  "kernelspec": {
   "display_name": "pandas",
   "language": "python",
   "name": "python3"
  },
  "language_info": {
   "codemirror_mode": {
    "name": "ipython",
    "version": 3
   },
   "file_extension": ".py",
   "mimetype": "text/x-python",
   "name": "python",
   "nbconvert_exporter": "python",
   "pygments_lexer": "ipython3",
   "version": "3.12.0"
  }
 },
 "nbformat": 4,
 "nbformat_minor": 5
}
