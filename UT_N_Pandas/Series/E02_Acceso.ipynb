{
 "cells": [
  {
   "cell_type": "markdown",
   "id": "ad01c1dc",
   "metadata": {},
   "source": [
    "### Acceso a los datos de una serie"
   ]
  },
  {
   "cell_type": "code",
   "execution_count": 1,
   "id": "34e8b084",
   "metadata": {},
   "outputs": [],
   "source": [
    "import pandas as pd"
   ]
  },
  {
   "cell_type": "code",
   "execution_count": 5,
   "id": "93b07999",
   "metadata": {},
   "outputs": [],
   "source": [
    "# Creación de la serie\n",
    "temperaturas = pd.Series([12.2, 30.7, 33.1, 23.4, 17.2])"
   ]
  },
  {
   "cell_type": "code",
   "execution_count": 7,
   "id": "458154eb",
   "metadata": {},
   "outputs": [
    {
     "name": "stdout",
     "output_type": "stream",
     "text": [
      "RangeIndex(start=0, stop=5, step=1)\n"
     ]
    }
   ],
   "source": [
    "# Información sobre los índices\n",
    "print(temperaturas.index)"
   ]
  },
  {
   "cell_type": "code",
   "execution_count": 11,
   "id": "b34525ea",
   "metadata": {},
   "outputs": [
    {
     "name": "stdout",
     "output_type": "stream",
     "text": [
      "12.2\n",
      "0    12.2\n",
      "1    30.7\n",
      "dtype: float64\n",
      "0    12.2\n",
      "1    30.7\n",
      "3    23.4\n",
      "dtype: float64\n"
     ]
    }
   ],
   "source": [
    "# Acceso a los elementos\n",
    "print(temperaturas[0])    # por su índice\n",
    "print(temperaturas[0:2])  # haciendo slicing \n",
    "print(temperaturas[[0, 1, 3]]) # usando una lista de índices"
   ]
  },
  {
   "cell_type": "code",
   "execution_count": null,
   "id": "3769a4d6",
   "metadata": {},
   "outputs": [
    {
     "name": "stdout",
     "output_type": "stream",
     "text": [
      "Madrid       14.2\n",
      "Salamanca    10.2\n",
      "dtype: float64\n"
     ]
    }
   ],
   "source": [
    "# Ahora con una serie con índices de tipo texto\n",
    "temperaturas = {'Madrid': 14.2, 'Salamanca': 10.2, 'Cáceres': 23, 'Badajoz': 14.3, 'Sevilla': 25.7}\n",
    "serie = pd.Series(temperaturas)"
   ]
  },
  {
   "cell_type": "code",
   "execution_count": 17,
   "id": "94691f75",
   "metadata": {},
   "outputs": [
    {
     "name": "stdout",
     "output_type": "stream",
     "text": [
      "14.3\n",
      "Madrid       14.2\n",
      "Salamanca    10.2\n",
      "dtype: float64\n",
      "14.2\n"
     ]
    },
    {
     "name": "stderr",
     "output_type": "stream",
     "text": [
      "C:\\Users\\jara2\\AppData\\Local\\Temp\\ipykernel_8560\\3755991293.py:5: FutureWarning: Series.__getitem__ treating keys as positions is deprecated. In a future version, integer keys will always be treated as labels (consistent with DataFrame behavior). To access a value by position, use `ser.iloc[pos]`\n",
      "  print(serie[0])\n"
     ]
    }
   ],
   "source": [
    "# Acceso a la serie\n",
    "print(serie['Badajoz'])   # Un índice\n",
    "ciudades = ['Madrid', 'Salamanca']\n",
    "print(serie[ciudades])   # Una lista de índices\n",
    "print(serie[0])"
   ]
  },
  {
   "cell_type": "code",
   "execution_count": null,
   "id": "a6dbd8ec",
   "metadata": {},
   "outputs": [],
   "source": []
  }
 ],
 "metadata": {
  "kernelspec": {
   "display_name": "pandas",
   "language": "python",
   "name": "python3"
  },
  "language_info": {
   "codemirror_mode": {
    "name": "ipython",
    "version": 3
   },
   "file_extension": ".py",
   "mimetype": "text/x-python",
   "name": "python",
   "nbconvert_exporter": "python",
   "pygments_lexer": "ipython3",
   "version": "3.12.0"
  }
 },
 "nbformat": 4,
 "nbformat_minor": 5
}
