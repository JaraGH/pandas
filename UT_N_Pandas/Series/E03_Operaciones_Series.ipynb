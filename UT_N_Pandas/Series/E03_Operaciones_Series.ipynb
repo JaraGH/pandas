{
 "cells": [
  {
   "cell_type": "markdown",
   "id": "ae4ad400",
   "metadata": {},
   "source": [
    "### Operaciones con series."
   ]
  },
  {
   "cell_type": "code",
   "execution_count": 1,
   "id": "6f640017",
   "metadata": {},
   "outputs": [],
   "source": [
    "import pandas as pd"
   ]
  },
  {
   "cell_type": "code",
   "execution_count": 5,
   "id": "67358c7f",
   "metadata": {},
   "outputs": [
    {
     "name": "stdout",
     "output_type": "stream",
     "text": [
      "Nº de elementos: 6\n",
      "Index: Index(['tomate', 'pera', 'manzana', 'plátanos', 'sandía', 'melón'], dtype='object')\n",
      "Tipo de datos: float64\n",
      "Valores: [1.9  2.1  2.2  3.9  1.95 1.35]\n"
     ]
    }
   ],
   "source": [
    "# Tamaño, index, tipo de datos y valores.\n",
    "# Estamos hablando de propiedades, no de métodos.\n",
    "precios = pd.Series([1.90, 2.10, 2.20, 3.90, 1.95, 1.35], \n",
    "        index=['tomate', 'pera', 'manzana', 'plátanos', 'sandía', 'melón'])\n",
    "print(f\"Nº de elementos: {precios.size}\")\n",
    "print(f\"Index: {precios.index}\")\n",
    "print(f\"Tipo de datos: {precios.dtype}\")\n",
    "print(f\"Valores: {precios.values}\")"
   ]
  },
  {
   "cell_type": "code",
   "execution_count": 8,
   "id": "2a6e6f1c",
   "metadata": {},
   "outputs": [
    {
     "data": {
      "text/plain": [
       "array([1.9 , 2.1 , 2.2 , 3.9 , 1.95, 1.35])"
      ]
     },
     "execution_count": 8,
     "metadata": {},
     "output_type": "execute_result"
    }
   ],
   "source": [
    "# Convertir la serie en un Numpy array\n",
    "np_precios = precios.to_numpy()\n",
    "np_precios"
   ]
  },
  {
   "cell_type": "code",
   "execution_count": 19,
   "id": "5e111e2c",
   "metadata": {},
   "outputs": [
    {
     "name": "stdout",
     "output_type": "stream",
     "text": [
      "Serie Reordenada:\n",
      "Sevilla      25.7\n",
      "Madrid       14.2\n",
      "Badajoz      14.3\n",
      "Salamanca    10.2\n",
      "Cáceres      23.0\n",
      "dtype: float64\n"
     ]
    }
   ],
   "source": [
    "# Realizar un reindex o reordenar la serie\n",
    "\n",
    "temperaturas = pd.Series(\n",
    "    {'Madrid': 14.2, 'Salamanca': 10.2, 'Cáceres': 23, 'Badajoz': 14.3, 'Sevilla': 25.7}\n",
    ")\n",
    "nuevo_orden = ['Sevilla', 'Madrid', 'Badajoz', 'Salamanca', 'Cáceres']\n",
    "serie_reordenada = temperaturas.reindex(nuevo_orden)\n",
    "print(f\"Serie Reordenada:\\n{serie_reordenada}\")"
   ]
  },
  {
   "cell_type": "code",
   "execution_count": 21,
   "id": "001cd196",
   "metadata": {},
   "outputs": [
    {
     "data": {
      "text/plain": [
       "Salamanca    10.2\n",
       "Madrid       14.2\n",
       "Badajoz      14.3\n",
       "Cáceres      23.0\n",
       "Sevilla      25.7\n",
       "dtype: float64"
      ]
     },
     "execution_count": 21,
     "metadata": {},
     "output_type": "execute_result"
    }
   ],
   "source": [
    "# Ordenar la serie por valor.\n",
    "temperaturas = pd.Series(\n",
    "    {'Madrid': 14.2, 'Salamanca': 10.2, 'Cáceres': 23, 'Badajoz': 14.3, 'Sevilla': 25.7}\n",
    ")\n",
    "ordenada = temperaturas.sort_values(ascending=True)\n",
    "ordenada\n",
    "\n"
   ]
  },
  {
   "cell_type": "code",
   "execution_count": 22,
   "id": "e71aad8c",
   "metadata": {},
   "outputs": [
    {
     "data": {
      "text/plain": [
       "0     1\n",
       "1     3\n",
       "2     5\n",
       "3     7\n",
       "4     9\n",
       "0     2\n",
       "1     4\n",
       "2     6\n",
       "3     8\n",
       "4    10\n",
       "0    15\n",
       "1    25\n",
       "2    35\n",
       "3    45\n",
       "4    55\n",
       "dtype: int64"
      ]
     },
     "execution_count": 22,
     "metadata": {},
     "output_type": "execute_result"
    }
   ],
   "source": [
    "# Unir varias series mediante concat.\n",
    "s1 = pd.Series([1, 3, 5, 7, 9])\n",
    "s2 = pd.Series([2, 4, 6, 8 ,10])\n",
    "s3 = pd.Series([15, 25, 35, 45, 55])\n",
    "serie = pd.concat([s1, s2, s3])\n",
    "serie"
   ]
  },
  {
   "cell_type": "code",
   "execution_count": 27,
   "id": "46229f2a",
   "metadata": {},
   "outputs": [
    {
     "name": "stdout",
     "output_type": "stream",
     "text": [
      "Madrid       False\n",
      "Salamanca     True\n",
      "Cáceres      False\n",
      "Badajoz       True\n",
      "Sevilla      False\n",
      "dtype: bool\n"
     ]
    }
   ],
   "source": [
    "# Preguntar si la serie contiene un índice o un valor\n",
    "temperaturas = pd.Series(\n",
    "    {'Madrid': 14.2, 'Salamanca': 10.2, 'Cáceres': 23, 'Badajoz': 14.3, 'Sevilla': 25.7}\n",
    ")\n",
    "# Preguntar por un índice\n",
    "# print('Madrid' in temperaturas)\n",
    "# print('Mónaco' in temperaturas)\n",
    "\n",
    "# Preguntar por un valor\n",
    "print(temperaturas.isin([10.2, 14.3, 35.5]))\n"
   ]
  },
  {
   "cell_type": "code",
   "execution_count": null,
   "id": "f00ee9b0",
   "metadata": {},
   "outputs": [
    {
     "data": {
      "text/plain": [
       "0    0\n",
       "1    0\n",
       "2    1\n",
       "3    0\n",
       "4    1\n",
       "5    0\n",
       "dtype: int64"
      ]
     },
     "execution_count": 33,
     "metadata": {},
     "output_type": "execute_result"
    }
   ],
   "source": [
    "# Operaciones aritméticas con series.\n",
    "# La serie original no cambia.\n",
    "numeros = pd.Series([10, 20, 25, 30, 25, 40])\n",
    "numeros % 2"
   ]
  },
  {
   "cell_type": "code",
   "execution_count": null,
   "id": "2a9b99ff",
   "metadata": {},
   "outputs": [
    {
     "data": {
      "text/plain": [
       "0    20\n",
       "1    40\n",
       "2    50\n",
       "3    60\n",
       "4    50\n",
       "5    80\n",
       "dtype: int64"
      ]
     },
     "execution_count": 35,
     "metadata": {},
     "output_type": "execute_result"
    }
   ],
   "source": [
    "# Aplicar función a serie median te apply.\n",
    "# La serie original no cambia.\n",
    "def doble(x):\n",
    "    return x * 2\n",
    "\n",
    "nuevos_numeros = numeros.apply(doble)\n",
    "nuevos_numeros"
   ]
  },
  {
   "cell_type": "code",
   "execution_count": 36,
   "id": "df35029f",
   "metadata": {},
   "outputs": [
    {
     "data": {
      "text/plain": [
       "0    15.0\n",
       "1    25.0\n",
       "2    35.0\n",
       "3    45.0\n",
       "4     NaN\n",
       "dtype: float64"
      ]
     },
     "execution_count": 36,
     "metadata": {},
     "output_type": "execute_result"
    }
   ],
   "source": [
    "# Sumar dos series.\n",
    "s1 = pd.Series([10, 20, 30, 40, 50])\n",
    "s2 = pd.Series([5, 5, 5, 5])\n",
    "s3 = s1 + s2\n",
    "s3"
   ]
  },
  {
   "cell_type": "code",
   "execution_count": null,
   "id": "1cf39721",
   "metadata": {},
   "outputs": [
    {
     "name": "stdout",
     "output_type": "stream",
     "text": [
      "Altura mayor: 3.9\n",
      "Media de las alturas: 2.19375\n",
      "Moda: 0    1.8\n",
      "1    1.9\n",
      "dtype: float64\n",
      "Varianza: 0.49459821428571427\n"
     ]
    }
   ],
   "source": [
    "# Varios métodos de las series.\n",
    "alturas = pd.Series([1.9, 2.1, 2.2, 3.9, 1.95, 1.80, 1.80, 1.90])\n",
    "print(f\"Altura mayor: {alturas.max()}\")\n",
    "print(f\"Media de las alturas: {alturas.mean()}\")\n",
    "print(f\"Moda: {alturas.mode()}\")\n"
   ]
  },
  {
   "cell_type": "code",
   "execution_count": null,
   "id": "055b3d75",
   "metadata": {},
   "outputs": [],
   "source": []
  }
 ],
 "metadata": {
  "kernelspec": {
   "display_name": "pandas",
   "language": "python",
   "name": "python3"
  },
  "language_info": {
   "codemirror_mode": {
    "name": "ipython",
    "version": 3
   },
   "file_extension": ".py",
   "mimetype": "text/x-python",
   "name": "python",
   "nbconvert_exporter": "python",
   "pygments_lexer": "ipython3",
   "version": "3.12.0"
  }
 },
 "nbformat": 4,
 "nbformat_minor": 5
}
