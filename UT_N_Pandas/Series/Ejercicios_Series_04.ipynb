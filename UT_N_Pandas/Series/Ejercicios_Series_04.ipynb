{
 "cells": [
  {
   "cell_type": "markdown",
   "id": "34f0b7c2",
   "metadata": {},
   "source": [
    "## Ejercicios 4.\n",
    "1. Crea una Serie de Pandas llamada temp_ciudades a partir del diccionario temperaturas_verano. temperaturas_verano = {'Madrid': 32.5, 'Barcelona': 28.0, 'Valencia': 30.1, 'Sevilla': 38.2, 'Bilbao': 24.5, 'Málaga': 31.0, 'Granada': np.nan, 'Zaragoza': 35.0, 'Palma': np.nan}\n",
    "2. Filtrado de Nulos:\n",
    "   1. Muestra las ciudades para las cuales no hay datos de temperatura (es decir, tienen NaN).\n",
    "   2. Muestra las ciudades para las cuales sí hay datos de temperatura (es decir, no tienen NaN).\n",
    "3. Filtrado Combinado (con y sin nulos):\n",
    "   1. Muestra las ciudades con temperatura superior a 30.0 (los NaN no deben aparecer).\n",
    "   2. Muestra las ciudades cuya temperatura es inferior a 25.0 o son NaN. (Observa cómo NaNs se comportan en las comparaciones).\n",
    "4. Filtrado Avanzado:\n",
    "   1. Paso 1: Filtra la serie para quedarte solo con las ciudades que tienen datos de temperatura válidos (no NaN).\n",
    "   2. Paso 2: De esa nueva serie, filtra las ciudades cuyas temperaturas son mayores o iguales a 30.0."
   ]
  },
  {
   "cell_type": "code",
   "execution_count": 2,
   "id": "64664249",
   "metadata": {},
   "outputs": [],
   "source": [
    "import pandas as pd\n",
    "import numpy as np"
   ]
  },
  {
   "cell_type": "code",
   "execution_count": 3,
   "id": "4f3e55fd",
   "metadata": {},
   "outputs": [
    {
     "data": {
      "text/plain": [
       "Madrid       32.5\n",
       "Barcelona    28.0\n",
       "Valencia     30.1\n",
       "Sevilla      38.2\n",
       "Bilbao       24.5\n",
       "Málaga       31.0\n",
       "Granada       NaN\n",
       "Zaragoza     35.0\n",
       "Palma         NaN\n",
       "dtype: float64"
      ]
     },
     "execution_count": 3,
     "metadata": {},
     "output_type": "execute_result"
    }
   ],
   "source": [
    "# 1. Crea una Serie de Pandas llamada temp_ciudades a partir del diccionario temperaturas_verano. \n",
    "temperaturas_verano = {'Madrid': 32.5, 'Barcelona': 28.0, 'Valencia': 30.1, 'Sevilla': 38.2, 'Bilbao': 24.5, 'Málaga': 31.0, 'Granada': np.nan, 'Zaragoza': 35.0, 'Palma': np.nan}\n",
    "temperaturas = pd.Series(temperaturas_verano)\n",
    "temperaturas"
   ]
  },
  {
   "cell_type": "code",
   "execution_count": 4,
   "id": "08cb06c5",
   "metadata": {},
   "outputs": [
    {
     "data": {
      "text/plain": [
       "Granada   NaN\n",
       "Palma     NaN\n",
       "dtype: float64"
      ]
     },
     "execution_count": 4,
     "metadata": {},
     "output_type": "execute_result"
    }
   ],
   "source": [
    "# 2. Filtrado de Nulos: Muestra las ciudades para las cuales no hay datos de temperatura (es decir, tienen NaN).\n",
    "sin_datos = temperaturas.isnull()\n",
    "result = temperaturas[sin_datos]\n",
    "result"
   ]
  },
  {
   "cell_type": "code",
   "execution_count": 7,
   "id": "03d3add4",
   "metadata": {},
   "outputs": [
    {
     "data": {
      "text/plain": [
       "Madrid       32.5\n",
       "Barcelona    28.0\n",
       "Valencia     30.1\n",
       "Sevilla      38.2\n",
       "Bilbao       24.5\n",
       "Málaga       31.0\n",
       "Zaragoza     35.0\n",
       "dtype: float64"
      ]
     },
     "execution_count": 7,
     "metadata": {},
     "output_type": "execute_result"
    }
   ],
   "source": [
    "# 2. Filtrado de Nulos: Muestra las ciudades para las cuales sí hay datos de temperatura (es decir, no tienen NaN).\n",
    "# Podemos usar la función notnull() o bien negar isnull().\n",
    "result = temperaturas[~sin_datos]\n",
    "result"
   ]
  },
  {
   "cell_type": "code",
   "execution_count": null,
   "id": "5d7a830c",
   "metadata": {},
   "outputs": [
    {
     "data": {
      "text/plain": [
       "Madrid      32.5\n",
       "Valencia    30.1\n",
       "Sevilla     38.2\n",
       "Málaga      31.0\n",
       "Zaragoza    35.0\n",
       "dtype: float64"
      ]
     },
     "execution_count": 9,
     "metadata": {},
     "output_type": "execute_result"
    }
   ],
   "source": [
    "# 3. Filtrado Combinado (con y sin nulos): Muestra las ciudades con temperatura superior a 30.0 (los NaN no deben aparecer).\n",
    "# No es necesario usar notnull(), ya que al comparar con NaN, el resultado es siempre False.\n",
    "\n",
    "temp_sup_30 = temperaturas > 30.0\n",
    "con_datos = temperaturas.notnull()\n",
    "result = temperaturas[temp_sup_30]\n",
    "result"
   ]
  },
  {
   "cell_type": "code",
   "execution_count": 10,
   "id": "21a2f8ee",
   "metadata": {},
   "outputs": [
    {
     "data": {
      "text/plain": [
       "Bilbao     24.5\n",
       "Granada     NaN\n",
       "Palma       NaN\n",
       "dtype: float64"
      ]
     },
     "execution_count": 10,
     "metadata": {},
     "output_type": "execute_result"
    }
   ],
   "source": [
    "# 3. Filtrado Combinado (con y sin nulos):Muestra las ciudades cuya temperatura es inferior a 25.0 o son NaN. \n",
    "# (Observa cómo NaNs se comportan en las comparaciones).\n",
    "temp_inf_25 = temperaturas < 25.0\n",
    "sin_datos = temperaturas.isnull()\n",
    "result = temperaturas[temp_inf_25 | sin_datos]\n",
    "result\n"
   ]
  },
  {
   "cell_type": "code",
   "execution_count": 13,
   "id": "69c34107",
   "metadata": {},
   "outputs": [
    {
     "data": {
      "text/plain": [
       "Madrid      32.5\n",
       "Valencia    30.1\n",
       "Sevilla     38.2\n",
       "Málaga      31.0\n",
       "Zaragoza    35.0\n",
       "dtype: float64"
      ]
     },
     "execution_count": 13,
     "metadata": {},
     "output_type": "execute_result"
    }
   ],
   "source": [
    "# 4. Filtrado Avanzado: \n",
    "# Paso 1: Filtra la serie para quedarte solo con las ciudades que tienen datos de temperatura válidos (no NaN).\n",
    "# Paso 2: De esa nueva serie, filtra las ciudades cuyas temperaturas son mayores o iguales a 30.0.\n",
    "sin_nulos = temperaturas.notnull()\n",
    "datos_sin_nulos = temperaturas[sin_nulos]\n",
    "temp_me_30 = temperaturas >= 30.0\n",
    "result = datos_sin_nulos[temp_me_30]\n",
    "result"
   ]
  },
  {
   "cell_type": "code",
   "execution_count": null,
   "id": "0e0c476e",
   "metadata": {},
   "outputs": [],
   "source": []
  }
 ],
 "metadata": {
  "kernelspec": {
   "display_name": "pandas",
   "language": "python",
   "name": "python3"
  },
  "language_info": {
   "codemirror_mode": {
    "name": "ipython",
    "version": 3
   },
   "file_extension": ".py",
   "mimetype": "text/x-python",
   "name": "python",
   "nbconvert_exporter": "python",
   "pygments_lexer": "ipython3",
   "version": "3.12.0"
  }
 },
 "nbformat": 4,
 "nbformat_minor": 5
}
