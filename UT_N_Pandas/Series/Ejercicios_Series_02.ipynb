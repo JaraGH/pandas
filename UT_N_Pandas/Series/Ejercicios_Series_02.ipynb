{
 "cells": [
  {
   "cell_type": "markdown",
   "id": "d891e7e8",
   "metadata": {},
   "source": [
    "## Ejercicios filtrado.\n",
    "1. Crea una Serie de Pandas llamada precios_tienda utilizando la lista precios y la lista articulos como su índice. precios = [np.nan, 23.75, 5.99, 18.00, 45.20, 1.25, 30.50, 8.75], articulos = ['Camiseta', 'Pantalón', 'Calcetines', 'Sudadera', 'Zapatillas', 'Gorro', 'Mochila', 'Guantes'].\n",
    "2. Filtrado Básico:\n",
    "   1. Muestra solo los artículos con un precio mayor a 20.00.\n",
    "   2. Muestra solo los artículos con un precio menor o igual a 10.00.\n",
    "   3. Muestra el precio del artículo \"Zapatillas\".\n",
    "3. Filtrado con Múltiples Condiciones:\n",
    "   1. Muestra los artículos cuyos precios estén entre 10.00 y 30.00 (ambos inclusive).\n",
    "   2. Muestra los artículos que cuestan menos de 5.00 o más de 40.00.\n",
    "4. Filtrado usando isin():\n",
    "   1. Muestra los precios de los artículos \"Camiseta\", \"Sudadera\" y \"Mochila\".\n",
    "   2. Muestra los precios de los artículos que no son \"Calcetines\" ni \"Gorro\".\n",
    "5. Nulos.\n",
    "   1. Obtener la serie sin nulos.\n",
    "   2. Obtener los nulos de la serie.\n",
    "6. Filtros con el accesor str: Buscar 'zapatillas'  y 'gorro'.\n",
    "\n",
    "\n",
    "\n",
    "\n"
   ]
  },
  {
   "cell_type": "code",
   "execution_count": 34,
   "id": "0625d5f2",
   "metadata": {},
   "outputs": [],
   "source": [
    "import pandas as pd\n",
    "import numpy as np"
   ]
  },
  {
   "cell_type": "code",
   "execution_count": 35,
   "id": "4d101baf",
   "metadata": {},
   "outputs": [
    {
     "data": {
      "text/plain": [
       "Camiseta       4.50\n",
       "Pantalón      23.75\n",
       "Calcetines     5.99\n",
       "Sudadera      18.00\n",
       "Zapatillas    45.20\n",
       "Gorro         10.00\n",
       "Mochila       30.50\n",
       "Guantes        8.75\n",
       "Camisa          NaN\n",
       "dtype: float64"
      ]
     },
     "execution_count": 35,
     "metadata": {},
     "output_type": "execute_result"
    }
   ],
   "source": [
    "# 1. Crear serie\n",
    "precios = [4.50, 23.75, 5.99, 18.00, 45.20, 10.00, 30.50, 8.75, np.nan]\n",
    "articulos = ['Camiseta', 'Pantalón', 'Calcetines', 'Sudadera', 'Zapatillas', 'Gorro', 'Mochila', 'Guantes', 'Camisa']\n",
    "serie = pd.Series(precios, index=articulos)\n",
    "serie"
   ]
  },
  {
   "cell_type": "code",
   "execution_count": 21,
   "id": "8ca6eed1",
   "metadata": {},
   "outputs": [
    {
     "data": {
      "text/plain": [
       "Pantalón      23.75\n",
       "Zapatillas    45.20\n",
       "Mochila       30.50\n",
       "dtype: float64"
      ]
     },
     "execution_count": 21,
     "metadata": {},
     "output_type": "execute_result"
    }
   ],
   "source": [
    "# Filtrado Básico: Muestra solo los artículos con un precio mayor a 20.00.\n",
    "precio_m_20 = serie > 20\n",
    "result = serie[precio_m_20]\n",
    "result\n",
    "\n"
   ]
  },
  {
   "cell_type": "code",
   "execution_count": 22,
   "id": "a419ec26",
   "metadata": {},
   "outputs": [
    {
     "data": {
      "text/plain": [
       "Pantalón      23.75\n",
       "Sudadera      18.00\n",
       "Zapatillas    45.20\n",
       "Gorro         10.00\n",
       "Mochila       30.50\n",
       "dtype: float64"
      ]
     },
     "execution_count": 22,
     "metadata": {},
     "output_type": "execute_result"
    }
   ],
   "source": [
    "# Filtrado Básico: Muestra solo los artículos con un precio menor o igual a 10.00.\n",
    "precio_me_10 = serie >= 10\n",
    "result = serie[precio_me_10]\n",
    "result"
   ]
  },
  {
   "cell_type": "code",
   "execution_count": 23,
   "id": "c93880c4",
   "metadata": {},
   "outputs": [
    {
     "data": {
      "text/plain": [
       "Pantalón    23.75\n",
       "Sudadera    18.00\n",
       "Gorro       10.00\n",
       "dtype: float64"
      ]
     },
     "execution_count": 23,
     "metadata": {},
     "output_type": "execute_result"
    }
   ],
   "source": [
    "# Filtrado con Múltiples Condiciones: Muestra los artículos cuyos precios estén entre 10.00 y 30.00 (ambos inclusive).\n",
    "condiciones = (serie >= 10) & (serie <= 30)\n",
    "result = serie[condiciones]\n",
    "result"
   ]
  },
  {
   "cell_type": "code",
   "execution_count": 24,
   "id": "70f13dd4",
   "metadata": {},
   "outputs": [
    {
     "data": {
      "text/plain": [
       "Camiseta       4.5\n",
       "Zapatillas    45.2\n",
       "dtype: float64"
      ]
     },
     "execution_count": 24,
     "metadata": {},
     "output_type": "execute_result"
    }
   ],
   "source": [
    "# Filtrado con Múltiples Condiciones: Muestra los artículos que cuestan menos de 5.00 o más de 40.00.\n",
    "condiciones = (serie < 5) | (serie > 40)\n",
    "result = serie[condiciones]\n",
    "result"
   ]
  },
  {
   "cell_type": "code",
   "execution_count": 27,
   "id": "d514f0a5",
   "metadata": {},
   "outputs": [
    {
     "data": {
      "text/plain": [
       "Camiseta     4.5\n",
       "Sudadera    18.0\n",
       "Mochila     30.5\n",
       "dtype: float64"
      ]
     },
     "execution_count": 27,
     "metadata": {},
     "output_type": "execute_result"
    }
   ],
   "source": [
    "# Filtrado usando isin(): Muestra los precios de los artículos \"Camiseta\", \"Sudadera\" y \"Mochila\".\n",
    "\n",
    "condicion = serie.index.isin(['Camiseta', 'Sudadera', 'Mochila'])\n",
    "result = serie[condicion]\n",
    "result"
   ]
  },
  {
   "cell_type": "code",
   "execution_count": 28,
   "id": "18c7df3b",
   "metadata": {},
   "outputs": [
    {
     "data": {
      "text/plain": [
       "Camiseta       4.50\n",
       "Pantalón      23.75\n",
       "Sudadera      18.00\n",
       "Zapatillas    45.20\n",
       "Mochila       30.50\n",
       "Guantes        8.75\n",
       "Camisa          NaN\n",
       "dtype: float64"
      ]
     },
     "execution_count": 28,
     "metadata": {},
     "output_type": "execute_result"
    }
   ],
   "source": [
    "# # Filtrado usando isin(): Muestra los precios de los artículos que no son \"Calcetines\" ni \"Gorro\".\n",
    "condicion = serie.index.isin(['Calcetines', 'Gorro'])\n",
    "result = serie[~condicion]\n",
    "result"
   ]
  },
  {
   "cell_type": "code",
   "execution_count": 29,
   "id": "0b68a8ce",
   "metadata": {},
   "outputs": [
    {
     "data": {
      "text/plain": [
       "Camiseta       4.50\n",
       "Pantalón      23.75\n",
       "Calcetines     5.99\n",
       "Sudadera      18.00\n",
       "Zapatillas    45.20\n",
       "Gorro         10.00\n",
       "Mochila       30.50\n",
       "Guantes        8.75\n",
       "dtype: float64"
      ]
     },
     "execution_count": 29,
     "metadata": {},
     "output_type": "execute_result"
    }
   ],
   "source": [
    "# Nulos. Obtener la serie sin nulos.\n",
    "sin_nulos = serie.notnull()\n",
    "result = serie[sin_nulos]\n",
    "result"
   ]
  },
  {
   "cell_type": "code",
   "execution_count": 30,
   "id": "b53aa9fe",
   "metadata": {},
   "outputs": [
    {
     "data": {
      "text/plain": [
       "Camisa   NaN\n",
       "dtype: float64"
      ]
     },
     "execution_count": 30,
     "metadata": {},
     "output_type": "execute_result"
    }
   ],
   "source": [
    "# Nulos. Obtener los nulos de la serie.\n",
    "nulos = serie.isnull()\n",
    "result = serie[nulos]\n",
    "result"
   ]
  },
  {
   "cell_type": "code",
   "execution_count": 40,
   "id": "63241ecd",
   "metadata": {},
   "outputs": [
    {
     "data": {
      "text/plain": [
       "Zapatillas    45.2\n",
       "Gorro         10.0\n",
       "dtype: float64"
      ]
     },
     "execution_count": 40,
     "metadata": {},
     "output_type": "execute_result"
    }
   ],
   "source": [
    "# Filtros con el accesor str: Buscar 'zapatillas'  y 'gorro'.\n",
    "# Ahora los datos de partida están en minúscula.\n",
    "# Observa que el filtro se aplica a los índices.\n",
    "condi_zapas = serie.index.str.lower() == 'zapatillas'\n",
    "condi_gorro = serie.index.str.lower() == 'gorro'\n",
    "result = serie[condi_zapas | condi_gorro]\n",
    "result"
   ]
  },
  {
   "cell_type": "code",
   "execution_count": null,
   "id": "045eac81",
   "metadata": {},
   "outputs": [],
   "source": []
  }
 ],
 "metadata": {
  "kernelspec": {
   "display_name": "pandas",
   "language": "python",
   "name": "python3"
  },
  "language_info": {
   "codemirror_mode": {
    "name": "ipython",
    "version": 3
   },
   "file_extension": ".py",
   "mimetype": "text/x-python",
   "name": "python",
   "nbconvert_exporter": "python",
   "pygments_lexer": "ipython3",
   "version": "3.12.0"
  }
 },
 "nbformat": 4,
 "nbformat_minor": 5
}
