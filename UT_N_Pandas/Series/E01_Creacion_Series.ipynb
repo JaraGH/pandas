{
 "cells": [
  {
   "cell_type": "code",
   "execution_count": 2,
   "id": "489195df",
   "metadata": {},
   "outputs": [],
   "source": [
    "import pandas as pd"
   ]
  },
  {
   "cell_type": "markdown",
   "id": "7edfa4e8",
   "metadata": {},
   "source": [
    "##### Pandas Series"
   ]
  },
  {
   "cell_type": "code",
   "execution_count": 8,
   "id": "ebbe1e71",
   "metadata": {},
   "outputs": [
    {
     "data": {
      "text/plain": [
       "0    25.2\n",
       "1    24.8\n",
       "2    26.1\n",
       "3    25.3\n",
       "4    24.9\n",
       "dtype: float64"
      ]
     },
     "execution_count": 8,
     "metadata": {},
     "output_type": "execute_result"
    }
   ],
   "source": [
    "# Creación de series a partir de una lista\n",
    "temperaturas = pd.Series([25.2, 24.8, 26.1, 25.3, 24.9])\n",
    "temperaturas"
   ]
  },
  {
   "cell_type": "code",
   "execution_count": 7,
   "id": "f6a8c76d",
   "metadata": {},
   "outputs": [
    {
     "name": "stdout",
     "output_type": "stream",
     "text": [
      "Temperatura máxima: 26.1\n",
      "Temperatura mínima: 24.8\n"
     ]
    }
   ],
   "source": [
    "# Calcular temperaturas máximas y mínimas\n",
    "max_temp = temperaturas.max()\n",
    "min_temp = temperaturas.min()\n",
    "print(\"Temperatura máxima:\", max_temp)\n",
    "print(\"Temperatura mínima:\", min_temp)"
   ]
  },
  {
   "cell_type": "code",
   "execution_count": null,
   "id": "3fa3ffd8",
   "metadata": {},
   "outputs": [
    {
     "data": {
      "text/plain": [
       "Madrid       14.2\n",
       "Salamanca    10.2\n",
       "Cáceres      23.0\n",
       "Badajoz      14.3\n",
       "Sevilla      25.7\n",
       "dtype: float64"
      ]
     },
     "execution_count": 12,
     "metadata": {},
     "output_type": "execute_result"
    }
   ],
   "source": [
    "# Creación de series a partir de un diccionario.\n",
    "# Las keys del diccionario serán los índices de la serie\n",
    "temperaturas = {'Madrid': 14.2, 'Salamanca': 10.2, 'Cáceres': 23, 'Badajoz': 14.3, 'Sevilla': 25.7}\n",
    "serie = pd.Series(temperaturas)\n",
    "serie"
   ]
  },
  {
   "cell_type": "code",
   "execution_count": 16,
   "id": "4d5c4d22",
   "metadata": {},
   "outputs": [
    {
     "name": "stdout",
     "output_type": "stream",
     "text": [
      "Temperatura en Sevilla: 25.7\n",
      "Temperatura en Salamanca: 10.2\n"
     ]
    }
   ],
   "source": [
    "# Acceder a elementos de la serie\n",
    "print(\"Temperatura en Sevilla:\", serie['Sevilla'])\n",
    "print(\"Temperatura en Salamanca:\", serie['Salamanca'])"
   ]
  },
  {
   "cell_type": "code",
   "execution_count": 17,
   "id": "a691ffe2",
   "metadata": {},
   "outputs": [
    {
     "data": {
      "text/plain": [
       "0    1\n",
       "1    2\n",
       "2    3\n",
       "3    4\n",
       "4    5\n",
       "dtype: int64"
      ]
     },
     "execution_count": 17,
     "metadata": {},
     "output_type": "execute_result"
    }
   ],
   "source": [
    "# Creación de series a partir de un array NumPy\n",
    "import numpy as np\n",
    "array = np.array([1, 2, 3, 4, 5])\n",
    "serie = pd.Series(array)\n",
    "serie"
   ]
  },
  {
   "cell_type": "code",
   "execution_count": null,
   "id": "57eac750",
   "metadata": {},
   "outputs": [
    {
     "data": {
      "text/plain": [
       "0    19\n",
       "1    93\n",
       "2    87\n",
       "3    19\n",
       "4    44\n",
       "5    50\n",
       "6    92\n",
       "7    64\n",
       "8    34\n",
       "9    50\n",
       "dtype: int32"
      ]
     },
     "execution_count": 3,
     "metadata": {},
     "output_type": "execute_result"
    }
   ],
   "source": [
    "# Creación de una serie con valores aleatorios.\n",
    "# Los valores serán enteros aleatorios entre 10 y 100\n",
    "import numpy as np\n",
    "serie = pd.Series(np.random.randint(low=10, high=100, size=10))\n",
    "serie"
   ]
  },
  {
   "cell_type": "code",
   "execution_count": null,
   "id": "88524fd4",
   "metadata": {},
   "outputs": [],
   "source": []
  }
 ],
 "metadata": {
  "kernelspec": {
   "display_name": "pandas",
   "language": "python",
   "name": "python3"
  },
  "language_info": {
   "codemirror_mode": {
    "name": "ipython",
    "version": 3
   },
   "file_extension": ".py",
   "mimetype": "text/x-python",
   "name": "python",
   "nbconvert_exporter": "python",
   "pygments_lexer": "ipython3",
   "version": "3.12.0"
  }
 },
 "nbformat": 4,
 "nbformat_minor": 5
}
